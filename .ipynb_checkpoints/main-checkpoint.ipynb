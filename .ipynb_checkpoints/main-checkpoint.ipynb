{
 "cells": [
  {
   "cell_type": "code",
   "execution_count": 1,
   "metadata": {
    "collapsed": false,
    "scrolled": true
   },
   "outputs": [
    {
     "data": {
      "text/plain": [
       "{\n"
      ]
     },
     "execution_count": 1,
     "metadata": {},
     "output_type": "execute_result"
    },
    {
     "data": {
      "text/plain": [
       "  max_epochs : 30\n",
       "  seed : 123\n",
       "  batch_size : 100\n",
       "  gen_data : datasets/gen_data.hdf5\n",
       "  gpuid : 0\n",
       "  continuous : true\n",
       "  init_from : \n",
       "  save_to : save/protos.t7\n",
       "  hidden : 400\n",
       "  skip_train : 0\n",
       "  latent : 20\n",
       "}\n"
      ]
     },
     "execution_count": 1,
     "metadata": {},
     "output_type": "execute_result"
    },
    {
     "data": {
      "text/plain": [
       "using CUDA on GPU 0...\t\n"
      ]
     },
     "execution_count": 1,
     "metadata": {},
     "output_type": "execute_result"
    },
    {
     "data": {
      "text/plain": [
       "Begin Training...\t\n"
      ]
     },
     "execution_count": 1,
     "metadata": {},
     "output_type": "execute_result"
    },
    {
     "data": {
      "text/plain": [
       "Epoch: 1 Lowerbound: 337.6456611715 time: 0.059525012969971\t\n"
      ]
     },
     "execution_count": 1,
     "metadata": {},
     "output_type": "execute_result"
    },
    {
     "data": {
      "text/plain": [
       "Epoch: 2 Lowerbound: -244.94535696847 time: 0.060451984405518\t\n"
      ]
     },
     "execution_count": 1,
     "metadata": {},
     "output_type": "execute_result"
    },
    {
     "data": {
      "text/plain": [
       " 465\n",
       " 560\n",
       "[torch.LongStorage of size 2]\n",
       "\n"
      ]
     },
     "execution_count": 1,
     "metadata": {},
     "output_type": "execute_result"
    },
    {
     "data": {
      "text/plain": [
       "Test Lowerbound: -368.52838378906 Error: -421.62077148437 kldiv: 53.092387695313 time: 0.0066919326782227\t\n",
       "print some data\t\n"
      ]
     },
     "execution_count": 1,
     "metadata": {},
     "output_type": "execute_result"
    },
    {
     "data": {
      "image/png": "[encoded data removed]",
      "text/plain": [
       "Console does not support images"
      ]
     },
     "metadata": {
      "image/png": {
       "height": 20,
       "width": 28
      }
     },
     "output_type": "display_data"
    },
    {
     "data": {
      "image/png": "[encoded data removed]",
      "text/plain": [
       "Console does not support images"
      ]
     },
     "metadata": {
      "image/png": {
       "height": 20,
       "width": 28
      }
     },
     "output_type": "display_data"
    },
    {
     "data": {
      "text/plain": [
       "Epoch: 3 Lowerbound: -397.38751534598 time: 0.058248996734619\t\n"
      ]
     },
     "execution_count": 1,
     "metadata": {},
     "output_type": "execute_result"
    },
    {
     "data": {
      "text/plain": [
       "Epoch: 4 Lowerbound: -442.98151925223 time: 0.068202972412109\t\n"
      ]
     },
     "execution_count": 1,
     "metadata": {},
     "output_type": "execute_result"
    },
    {
     "data": {
      "text/plain": [
       " 465\n",
       " 560\n",
       "[torch.LongStorage of size 2]\n",
       "\n"
      ]
     },
     "execution_count": 1,
     "metadata": {},
     "output_type": "execute_result"
    },
    {
     "data": {
      "text/plain": [
       "Test Lowerbound: -470.65646728516 Error: -508.47140625 kldiv: 37.814938964844 time: 0.010812044143677\t\n",
       "print some data\t\n"
      ]
     },
     "execution_count": 1,
     "metadata": {},
     "output_type": "execute_result"
    },
    {
     "data": {
      "image/png": "[encoded data removed]",
      "text/plain": [
       "Console does not support images"
      ]
     },
     "metadata": {
      "image/png": {
       "height": 20,
       "width": 28
      }
     },
     "output_type": "display_data"
    },
    {
     "data": {
      "image/png": "[encoded data removed]",
      "text/plain": [
       "Console does not support images"
      ]
     },
     "metadata": {
      "image/png": {
       "height": 20,
       "width": 28
      }
     },
     "output_type": "display_data"
    },
    {
     "data": {
      "text/plain": [
       "Epoch: 5 Lowerbound: -478.86032139369 time: 0.056522130966187\t\n"
      ]
     },
     "execution_count": 1,
     "metadata": {},
     "output_type": "execute_result"
    },
    {
     "data": {
      "text/plain": [
       "Epoch: 6 Lowerbound: -520.50566999163 time: 0.05678391456604\t\n"
      ]
     },
     "execution_count": 1,
     "metadata": {},
     "output_type": "execute_result"
    },
    {
     "data": {
      "text/plain": [
       " 465\n",
       " 560\n",
       "[torch.LongStorage of size 2]\n",
       "\n"
      ]
     },
     "execution_count": 1,
     "metadata": {},
     "output_type": "execute_result"
    },
    {
     "data": {
      "text/plain": [
       "Test Lowerbound: -533.80628112793 Error: -572.9266796875 kldiv: 39.12039855957 time: 0.0072710514068604\t\n",
       "print some data\t\n"
      ]
     },
     "execution_count": 1,
     "metadata": {},
     "output_type": "execute_result"
    },
    {
     "data": {
      "image/png": "[encoded data removed]",
      "text/plain": [
       "Console does not support images"
      ]
     },
     "metadata": {
      "image/png": {
       "height": 20,
       "width": 28
      }
     },
     "output_type": "display_data"
    },
    {
     "data": {
      "image/png": "[encoded data removed]",
      "text/plain": [
       "Console does not support images"
      ]
     },
     "metadata": {
      "image/png": {
       "height": 20,
       "width": 28
      }
     },
     "output_type": "display_data"
    },
    {
     "data": {
      "text/plain": [
       "Epoch: 7 Lowerbound: -568.23912231445 time: 0.055420160293579\t\n"
      ]
     },
     "execution_count": 1,
     "metadata": {},
     "output_type": "execute_result"
    },
    {
     "data": {
      "text/plain": [
       "Epoch: 8 Lowerbound: -592.30815499442 time: 0.063343048095703\t\n"
      ]
     },
     "execution_count": 1,
     "metadata": {},
     "output_type": "execute_result"
    },
    {
     "data": {
      "text/plain": [
       " 465\n",
       " 560\n",
       "[torch.LongStorage of size 2]\n",
       "\n"
      ]
     },
     "execution_count": 1,
     "metadata": {},
     "output_type": "execute_result"
    },
    {
     "data": {
      "text/plain": [
       "Test Lowerbound: -568.81349243164 Error: -610.78869140625 kldiv: 41.975198974609 time: 0.0075218677520752\t\n",
       "print some data\t\n"
      ]
     },
     "execution_count": 1,
     "metadata": {},
     "output_type": "execute_result"
    },
    {
     "data": {
      "image/png": "[encoded data removed]",
      "text/plain": [
       "Console does not support images"
      ]
     },
     "metadata": {
      "image/png": {
       "height": 20,
       "width": 28
      }
     },
     "output_type": "display_data"
    },
    {
     "data": {
      "image/png": "[encoded data removed]",
      "text/plain": [
       "Console does not support images"
      ]
     },
     "metadata": {
      "image/png": {
       "height": 20,
       "width": 28
      }
     },
     "output_type": "display_data"
    },
    {
     "data": {
      "text/plain": [
       "Epoch: 9 Lowerbound: -606.42693150112 time: 0.086779832839966\t\n"
      ]
     },
     "execution_count": 1,
     "metadata": {},
     "output_type": "execute_result"
    },
    {
     "data": {
      "text/plain": [
       "Epoch: 10 Lowerbound: -655.97910400391 time: 0.06356406211853\t\n"
      ]
     },
     "execution_count": 1,
     "metadata": {},
     "output_type": "execute_result"
    },
    {
     "data": {
      "text/plain": [
       " 465\n",
       " 560\n",
       "[torch.LongStorage of size 2]\n",
       "\n"
      ]
     },
     "execution_count": 1,
     "metadata": {},
     "output_type": "execute_result"
    },
    {
     "data": {
      "text/plain": [
       "Test Lowerbound: -645.60856323242 Error: -687.4830078125 kldiv: 41.874444580078 time: 0.0081088542938232\t\n",
       "print some data\t\n"
      ]
     },
     "execution_count": 1,
     "metadata": {},
     "output_type": "execute_result"
    },
    {
     "data": {
      "image/png": "[encoded data removed]",
      "text/plain": [
       "Console does not support images"
      ]
     },
     "metadata": {
      "image/png": {
       "height": 20,
       "width": 28
      }
     },
     "output_type": "display_data"
    },
    {
     "data": {
      "image/png": "[encoded data removed]",
      "text/plain": [
       "Console does not support images"
      ]
     },
     "metadata": {
      "image/png": {
       "height": 20,
       "width": 28
      }
     },
     "output_type": "display_data"
    },
    {
     "data": {
      "text/plain": [
       "Epoch: 11 Lowerbound: -685.98754603795 time: 0.060389041900635\t\n"
      ]
     },
     "execution_count": 1,
     "metadata": {},
     "output_type": "execute_result"
    },
    {
     "data": {
      "text/plain": [
       "Epoch: 12 Lowerbound: -706.57830426897 time: 0.0572190284729\t\n"
      ]
     },
     "execution_count": 1,
     "metadata": {},
     "output_type": "execute_result"
    },
    {
     "data": {
      "text/plain": [
       " 465\n",
       " 560\n",
       "[torch.LongStorage of size 2]\n",
       "\n"
      ]
     },
     "execution_count": 1,
     "metadata": {},
     "output_type": "execute_result"
    },
    {
     "data": {
      "text/plain": [
       "Test Lowerbound: -731.38815551758 Error: -776.2283984375 kldiv: 44.840242919922 time: 0.0063209533691406\t\n",
       "print some data\t\n"
      ]
     },
     "execution_count": 1,
     "metadata": {},
     "output_type": "execute_result"
    },
    {
     "data": {
      "image/png": "[encoded data removed]",
      "text/plain": [
       "Console does not support images"
      ]
     },
     "metadata": {
      "image/png": {
       "height": 20,
       "width": 28
      }
     },
     "output_type": "display_data"
    },
    {
     "data": {
      "image/png": "[encoded data removed]",
      "text/plain": [
       "Console does not support images"
      ]
     },
     "metadata": {
      "image/png": {
       "height": 20,
       "width": 28
      }
     },
     "output_type": "display_data"
    },
    {
     "data": {
      "text/plain": [
       "Epoch: 13 Lowerbound: -728.90045375279 time: 0.054653167724609\t\n"
      ]
     },
     "execution_count": 1,
     "metadata": {},
     "output_type": "execute_result"
    },
    {
     "data": {
      "text/plain": [
       "Epoch: 14 Lowerbound: -730.9579398019 time: 0.063517093658447\t\n"
      ]
     },
     "execution_count": 1,
     "metadata": {},
     "output_type": "execute_result"
    },
    {
     "data": {
      "text/plain": [
       " 465\n",
       " 560\n",
       "[torch.LongStorage of size 2]\n",
       "\n"
      ]
     },
     "execution_count": 1,
     "metadata": {},
     "output_type": "execute_result"
    },
    {
     "data": {
      "text/plain": [
       "Test Lowerbound: -693.53954589844 Error: -738.603671875 kldiv: 45.064125976563 time: 0.0071349143981934\t\n",
       "print some data\t\n"
      ]
     },
     "execution_count": 1,
     "metadata": {},
     "output_type": "execute_result"
    },
    {
     "data": {
      "image/png": "[encoded data removed]",
      "text/plain": [
       "Console does not support images"
      ]
     },
     "metadata": {
      "image/png": {
       "height": 20,
       "width": 28
      }
     },
     "output_type": "display_data"
    },
    {
     "data": {
      "image/png": "[encoded data removed]",
      "text/plain": [
       "Console does not support images"
      ]
     },
     "metadata": {
      "image/png": {
       "height": 20,
       "width": 28
      }
     },
     "output_type": "display_data"
    },
    {
     "data": {
      "text/plain": [
       "Epoch: 15 Lowerbound: -729.16571428571 time: 0.053946971893311\t\n"
      ]
     },
     "execution_count": 1,
     "metadata": {},
     "output_type": "execute_result"
    },
    {
     "data": {
      "text/plain": [
       "Epoch: 16 Lowerbound: -758.9041015625 time: 0.058662891387939\t\n"
      ]
     },
     "execution_count": 1,
     "metadata": {},
     "output_type": "execute_result"
    },
    {
     "data": {
      "text/plain": [
       " 465\n",
       " 560\n",
       "[torch.LongStorage of size 2]\n",
       "\n"
      ]
     },
     "execution_count": 1,
     "metadata": {},
     "output_type": "execute_result"
    },
    {
     "data": {
      "text/plain": [
       "Test Lowerbound: -768.71919433594 Error: -815.1624609375 kldiv: 46.443266601562 time: 0.0083839893341064\t\n",
       "print some data\t\n"
      ]
     },
     "execution_count": 1,
     "metadata": {},
     "output_type": "execute_result"
    },
    {
     "data": {
      "image/png": "[encoded data removed]",
      "text/plain": [
       "Console does not support images"
      ]
     },
     "metadata": {
      "image/png": {
       "height": 20,
       "width": 28
      }
     },
     "output_type": "display_data"
    },
    {
     "data": {
      "image/png": "[encoded data removed]",
      "text/plain": [
       "Console does not support images"
      ]
     },
     "metadata": {
      "image/png": {
       "height": 20,
       "width": 28
      }
     },
     "output_type": "display_data"
    },
    {
     "data": {
      "text/plain": [
       "Epoch: 17 Lowerbound: -772.38624128069 time: 0.089463949203491\t\n"
      ]
     },
     "execution_count": 1,
     "metadata": {},
     "output_type": "execute_result"
    },
    {
     "data": {
      "text/plain": [
       "Epoch: 18 Lowerbound: -704.69170968192 time: 0.05831503868103\t\n"
      ]
     },
     "execution_count": 1,
     "metadata": {},
     "output_type": "execute_result"
    },
    {
     "data": {
      "text/plain": [
       " 465\n",
       " 560\n",
       "[torch.LongStorage of size 2]\n",
       "\n"
      ]
     },
     "execution_count": 1,
     "metadata": {},
     "output_type": "execute_result"
    },
    {
     "data": {
      "text/plain": [
       "Test Lowerbound: -738.07668945313 Error: -781.7768359375 kldiv: 43.700146484375 time: 0.0071918964385986\t\n",
       "print some data\t\n"
      ]
     },
     "execution_count": 1,
     "metadata": {},
     "output_type": "execute_result"
    },
    {
     "data": {
      "image/png": "[encoded data removed]",
      "text/plain": [
       "Console does not support images"
      ]
     },
     "metadata": {
      "image/png": {
       "height": 20,
       "width": 28
      }
     },
     "output_type": "display_data"
    },
    {
     "data": {
      "image/png": "[encoded data removed]",
      "text/plain": [
       "Console does not support images"
      ]
     },
     "metadata": {
      "image/png": {
       "height": 20,
       "width": 28
      }
     },
     "output_type": "display_data"
    },
    {
     "data": {
      "text/plain": [
       "Epoch: 19 Lowerbound: -778.13640171596 time: 0.055068016052246\t\n"
      ]
     },
     "execution_count": 1,
     "metadata": {},
     "output_type": "execute_result"
    },
    {
     "data": {
      "text/plain": [
       "Epoch: 20 Lowerbound: -803.07335902623 time: 0.057742834091187\t\n"
      ]
     },
     "execution_count": 1,
     "metadata": {},
     "output_type": "execute_result"
    },
    {
     "data": {
      "text/plain": [
       " 465\n",
       " 560\n",
       "[torch.LongStorage of size 2]\n",
       "\n"
      ]
     },
     "execution_count": 1,
     "metadata": {},
     "output_type": "execute_result"
    },
    {
     "data": {
      "text/plain": [
       "Test Lowerbound: -799.56245483398 Error: -848.13677734375 kldiv: 48.574322509766 time: 0.0065679550170898\t\n",
       "print some data\t\n"
      ]
     },
     "execution_count": 1,
     "metadata": {},
     "output_type": "execute_result"
    },
    {
     "data": {
      "image/png": "[encoded data removed]",
      "text/plain": [
       "Console does not support images"
      ]
     },
     "metadata": {
      "image/png": {
       "height": 20,
       "width": 28
      }
     },
     "output_type": "display_data"
    },
    {
     "data": {
      "image/png": "[encoded data removed]",
      "text/plain": [
       "Console does not support images"
      ]
     },
     "metadata": {
      "image/png": {
       "height": 20,
       "width": 28
      }
     },
     "output_type": "display_data"
    },
    {
     "data": {
      "text/plain": [
       "Epoch: 21 Lowerbound: -735.20643729074 time: 0.054240942001343\t\n"
      ]
     },
     "execution_count": 1,
     "metadata": {},
     "output_type": "execute_result"
    },
    {
     "data": {
      "text/plain": [
       "Epoch: 22 Lowerbound: -800.22577427455 time: 0.055744171142578\t\n"
      ]
     },
     "execution_count": 1,
     "metadata": {},
     "output_type": "execute_result"
    },
    {
     "data": {
      "text/plain": [
       " 465\n",
       " 560\n",
       "[torch.LongStorage of size 2]\n",
       "\n"
      ]
     },
     "execution_count": 1,
     "metadata": {},
     "output_type": "execute_result"
    },
    {
     "data": {
      "text/plain": [
       "Test Lowerbound: -820.01298461914 Error: -868.7341015625 kldiv: 48.721116943359 time: 0.005936861038208\t\n",
       "print some data\t\n"
      ]
     },
     "execution_count": 1,
     "metadata": {},
     "output_type": "execute_result"
    },
    {
     "data": {
      "image/png": "[encoded data removed]",
      "text/plain": [
       "Console does not support images"
      ]
     },
     "metadata": {
      "image/png": {
       "height": 20,
       "width": 28
      }
     },
     "output_type": "display_data"
    },
    {
     "data": {
      "image/png": "[encoded data removed]",
      "text/plain": [
       "Console does not support images"
      ]
     },
     "metadata": {
      "image/png": {
       "height": 20,
       "width": 28
      }
     },
     "output_type": "display_data"
    },
    {
     "data": {
      "text/plain": [
       "Epoch: 23 Lowerbound: -836.75745849609 time: 0.064330101013184\t\n"
      ]
     },
     "execution_count": 1,
     "metadata": {},
     "output_type": "execute_result"
    },
    {
     "data": {
      "text/plain": [
       "Epoch: 24 Lowerbound: -848.76485142299 time: 0.063504934310913\t\n"
      ]
     },
     "execution_count": 1,
     "metadata": {},
     "output_type": "execute_result"
    },
    {
     "data": {
      "text/plain": [
       " 465\n",
       " 560\n",
       "[torch.LongStorage of size 2]\n",
       "\n"
      ]
     },
     "execution_count": 1,
     "metadata": {},
     "output_type": "execute_result"
    },
    {
     "data": {
      "text/plain": [
       "Test Lowerbound: -854.13645874023 Error: -904.476328125 kldiv: 50.339869384766 time: 0.0092170238494873\t\n",
       "print some data\t\n"
      ]
     },
     "execution_count": 1,
     "metadata": {},
     "output_type": "execute_result"
    },
    {
     "data": {
      "image/png": "[encoded data removed]",
      "text/plain": [
       "Console does not support images"
      ]
     },
     "metadata": {
      "image/png": {
       "height": 20,
       "width": 28
      }
     },
     "output_type": "display_data"
    },
    {
     "data": {
      "image/png": "[encoded data removed]",
      "text/plain": [
       "Console does not support images"
      ]
     },
     "metadata": {
      "image/png": {
       "height": 20,
       "width": 28
      }
     },
     "output_type": "display_data"
    },
    {
     "data": {
      "text/plain": [
       "Epoch: 25 Lowerbound: -820.28785260882 time: 0.085630178451538\t\n"
      ]
     },
     "execution_count": 1,
     "metadata": {},
     "output_type": "execute_result"
    },
    {
     "data": {
      "text/plain": [
       "Epoch: 26 Lowerbound: -816.49662632533 time: 0.055684089660645\t\n"
      ]
     },
     "execution_count": 1,
     "metadata": {},
     "output_type": "execute_result"
    },
    {
     "data": {
      "text/plain": [
       " 465\n",
       " 560\n",
       "[torch.LongStorage of size 2]\n",
       "\n"
      ]
     },
     "execution_count": 1,
     "metadata": {},
     "output_type": "execute_result"
    },
    {
     "data": {
      "text/plain": [
       "Test Lowerbound: -841.15426879883 Error: -889.207421875 kldiv: 48.053153076172 time: 0.006417989730835\t\n",
       "print some data\t\n"
      ]
     },
     "execution_count": 1,
     "metadata": {},
     "output_type": "execute_result"
    },
    {
     "data": {
      "image/png": "[encoded data removed]",
      "text/plain": [
       "Console does not support images"
      ]
     },
     "metadata": {
      "image/png": {
       "height": 20,
       "width": 28
      }
     },
     "output_type": "display_data"
    },
    {
     "data": {
      "image/png": "[encoded data removed]",
      "text/plain": [
       "Console does not support images"
      ]
     },
     "metadata": {
      "image/png": {
       "height": 20,
       "width": 28
      }
     },
     "output_type": "display_data"
    },
    {
     "data": {
      "text/plain": [
       "Epoch: 27 Lowerbound: -859.7844921875 time: 0.05822491645813\t\n"
      ]
     },
     "execution_count": 1,
     "metadata": {},
     "output_type": "execute_result"
    },
    {
     "data": {
      "text/plain": [
       "Epoch: 28 Lowerbound: -871.94821010045 time: 0.056570053100586\t\n"
      ]
     },
     "execution_count": 1,
     "metadata": {},
     "output_type": "execute_result"
    },
    {
     "data": {
      "text/plain": [
       " 465\n",
       " 560\n",
       "[torch.LongStorage of size 2]\n",
       "\n"
      ]
     },
     "execution_count": 1,
     "metadata": {},
     "output_type": "execute_result"
    },
    {
     "data": {
      "text/plain": [
       "Test Lowerbound: -871.45118041992 Error: -922.5705859375 kldiv: 51.119405517578 time: 0.0071728229522705\t\n",
       "print some data\t\n"
      ]
     },
     "execution_count": 1,
     "metadata": {},
     "output_type": "execute_result"
    },
    {
     "data": {
      "image/png": "[encoded data removed]",
      "text/plain": [
       "Console does not support images"
      ]
     },
     "metadata": {
      "image/png": {
       "height": 20,
       "width": 28
      }
     },
     "output_type": "display_data"
    },
    {
     "data": {
      "image/png": "[encoded data removed]",
      "text/plain": [
       "Console does not support images"
      ]
     },
     "metadata": {
      "image/png": {
       "height": 20,
       "width": 28
      }
     },
     "output_type": "display_data"
    },
    {
     "data": {
      "text/plain": [
       "Epoch: 29 Lowerbound: -871.15820835658 time: 0.056050062179565\t\n"
      ]
     },
     "execution_count": 1,
     "metadata": {},
     "output_type": "execute_result"
    },
    {
     "data": {
      "text/plain": [
       "Epoch: 30 Lowerbound: -869.81087332589 time: 0.057098865509033\t\n"
      ]
     },
     "execution_count": 1,
     "metadata": {},
     "output_type": "execute_result"
    },
    {
     "data": {
      "text/plain": [
       " 465\n",
       " 560\n",
       "[torch.LongStorage of size 2]\n",
       "\n"
      ]
     },
     "execution_count": 1,
     "metadata": {},
     "output_type": "execute_result"
    },
    {
     "data": {
      "text/plain": [
       "Test Lowerbound: -895.21212524414 Error: -946.48724609375 kldiv: 51.275120849609 time: 0.0064570903778076\t\n",
       "print some data\t\n"
      ]
     },
     "execution_count": 1,
     "metadata": {},
     "output_type": "execute_result"
    },
    {
     "data": {
      "image/png": "[encoded data removed]",
      "text/plain": [
       "Console does not support images"
      ]
     },
     "metadata": {
      "image/png": {
       "height": 20,
       "width": 28
      }
     },
     "output_type": "display_data"
    },
    {
     "data": {
      "image/png": "[encoded data removed]",
      "text/plain": [
       "Console does not support images"
      ]
     },
     "metadata": {
      "image/png": {
       "height": 20,
       "width": 28
      }
     },
     "output_type": "display_data"
    }
   ],
   "source": [
    "-- Joost van Amersfoort - <joost@joo.st>\n",
    "require 'torch'\n",
    "require 'nn'\n",
    "require 'nngraph'\n",
    "require 'optim'\n",
    "\n",
    "\n",
    "nngraph.setDebug(false)\n",
    "\n",
    "local VAE = require 'VAE'\n",
    "require 'KLDCriterion'\n",
    "require 'GaussianCriterion'\n",
    "require 'Sampler'\n",
    "\n",
    "--For loading data files\n",
    "require 'load'\n",
    "\n",
    "cmd = torch.CmdLine()\n",
    "cmd:text()\n",
    "cmd:text('Train a Variational Autoencoder')\n",
    "cmd:text()\n",
    "cmd:text('Options')\n",
    "-- data\n",
    "cmd:option('-gpuid',0,'which gpu to use. -1 = use CPU')\n",
    "cmd:option('-continuous',1,'continuous or binary data')\n",
    "cmd:option('-max_epochs',30,'number of full passes through the training data')\n",
    "cmd:option('-seed',123,'torch manual random number generator seed')\n",
    "cmd:option('-hidden',400,'hidden_layer_size')\n",
    "cmd:option('-latent',20,'latent_variable_size')\n",
    "cmd:option('-batch_size',100,'batch_size')\n",
    "cmd:option('-save_to','save/protos.t7','save the model to')\n",
    "cmd:option('-init_from','','initialize network parameters from checkpoint at this path')\n",
    "cmd:option('-skip_train',0,'skip training')\n",
    "cmd:option('-gen_data','datasets/gen_data.hdf5','reconstructed data')\n",
    "cmd:text()\n",
    "\n",
    "local arg = ''\n",
    "opt = cmd:parse(arg)\n",
    "\n",
    "if opt.continuous == 1 then\n",
    "    opt.continuous = true\n",
    "else\n",
    "    opt.continuous = false\n",
    "end\n",
    "print(opt)\n",
    "\n",
    "\n",
    "function buildModel(opt)\n",
    "    protos = {}\n",
    "    local encoder = VAE.get_encoder(opt.input_size, opt.hidden, opt.latent)\n",
    "    local decoder = VAE.get_decoder(opt.input_size, opt.hidden, opt.latent, opt.continuous)\n",
    "    local input = nn.Identity()()\n",
    "    local mean, log_var = encoder(input):split(2)\n",
    "    local z = nn.Sampler()({mean, log_var})\n",
    "    local reconstruction, reconstruction_var, model\n",
    "    if opt.continuous then\n",
    "        reconstruction, reconstruction_var = decoder(z):split(2)\n",
    "        model = nn.gModule({input},{reconstruction, reconstruction_var, mean, log_var})\n",
    "        criterion = nn.GaussianCriterion()\n",
    "    else\n",
    "        reconstruction = decoder(z)\n",
    "        model = nn.gModule({input},{reconstruction, mean, log_var})\n",
    "        criterion = nn.BCECriterion()\n",
    "        criterion.sizeAverage = false\n",
    "    end\n",
    "    protos.model = model\n",
    "    protos.criterion = criterion\n",
    "    protos.KLD = nn.KLDCriterion()\n",
    "    return protos\n",
    "end\n",
    "\n",
    "function computationGraph(model, data)\n",
    "    --Some code to draw computational graph\n",
    "    -- dummy_x = torch.rand(10)\n",
    "    local rg = torch.Tensor({1}):long()\n",
    "    local dummy_x = data.train:index(1,rg)\n",
    "    model:forward(dummy_x)\n",
    "    --Uncomment to get structure of the Variational Autoencoder\n",
    "    graph.dot(model.fg, 'Variational Autoencoder', 'VA')\n",
    "end\n",
    "\n",
    "function ftrain(protos, data, opt)\n",
    "    local parameters, gradients = protos.model:getParameters()\n",
    "    local config = {\n",
    "        learningRate = 0.001\n",
    "    }\n",
    "\n",
    "    local state = {}\n",
    "\n",
    "    epoch = 0\n",
    "    -- while true do\n",
    "\n",
    "    while epoch < opt.max_epochs do\n",
    "        epoch = epoch + 1\n",
    "        local lowerbound = 0\n",
    "        local tic = torch.tic()\n",
    "\n",
    "        --local shuffle = torch.randperm(data:size(1))\n",
    "\n",
    "        -- This batch creation is inspired by szagoruyko CIFAR example.\n",
    "        local indices = torch.randperm(data.train:size(1)):long():split(opt.batch_size)\n",
    "        indices[#indices] = nil\n",
    "        local N = #indices * opt.batch_size\n",
    "\n",
    "        local tic = torch.tic()\n",
    "        for t,v in ipairs(indices) do\n",
    "            xlua.progress(t, #indices)\n",
    "\n",
    "            local inputs = data.train:index(1,v)\n",
    "            --inputs = inputs:cuda()\n",
    "            --print(inputs)\n",
    "            local opfunc = function(x)\n",
    "                if x ~= parameters then\n",
    "                    parameters:copy(x)\n",
    "                end\n",
    "\n",
    "                protos.model:zeroGradParameters()\n",
    "                local reconstruction, reconstruction_var, mean, log_var\n",
    "                if opt.continuous then\n",
    "                    reconstruction, reconstruction_var, mean, log_var = unpack(protos.model:forward(inputs))\n",
    "                    reconstruction = {reconstruction, reconstruction_var}\n",
    "                else\n",
    "                    reconstruction, mean, log_var = unpack(protos.model:forward(inputs))\n",
    "                end\n",
    "\n",
    "                local err = protos.criterion:forward(reconstruction, inputs)\n",
    "                local df_dw = protos.criterion:backward(reconstruction, inputs)\n",
    "\n",
    "                local KLDerr = protos.KLD:forward(mean, log_var)\n",
    "                local dKLD_dmu, dKLD_dlog_var = unpack(protos.KLD:backward(mean, log_var))\n",
    "\n",
    "                if opt.continuous then\n",
    "                    error_grads = {df_dw[1], df_dw[2], dKLD_dmu, dKLD_dlog_var}\n",
    "                else\n",
    "                    error_grads = {df_dw, dKLD_dmu, dKLD_dlog_var}\n",
    "                end\n",
    "\n",
    "                protos.model:backward(inputs, error_grads)\n",
    "\n",
    "                local batchlowerbound = err + KLDerr\n",
    "\n",
    "                return batchlowerbound, gradients\n",
    "            end\n",
    "\n",
    "            x, batchlowerbound = optim.adam(opfunc, parameters, config, state)\n",
    "\n",
    "            lowerbound = lowerbound + batchlowerbound[1]\n",
    "        end\n",
    "\n",
    "        print(\"Epoch: \" .. epoch .. \" Lowerbound: \" .. lowerbound/N .. \" time: \" .. torch.toc(tic)) \n",
    "\n",
    "        if lowerboundlist then\n",
    "            lowerboundlist = torch.cat(lowerboundlist,torch.Tensor(1,1):fill(lowerbound/N),1)\n",
    "        else\n",
    "            lowerboundlist = torch.Tensor(1,1):fill(lowerbound/N)\n",
    "        end\n",
    "\n",
    "        if epoch % 2 == 0 then\n",
    "            --torch.save('save/parameters.t7', parameters)\n",
    "            feval(protos, data, opt)\n",
    "            torch.save(opt.save_to, protos)\n",
    "            torch.save('save/state.t7', state)\n",
    "            torch.save('save/lowerbound.t7', torch.Tensor(lowerboundlist))\n",
    "        end\n",
    "    end\n",
    "end\n",
    "\n",
    "function feval(protos, data, opt)\n",
    "    -- print on the test dataset\n",
    "    local lowerbound = 0\n",
    "    local err = 0\n",
    "    local kldiv = 0\n",
    "    local gen_data = torch.zeros(data.test:size()):double()\n",
    "    if opt.gpuid >=0 then\n",
    "        gen_data = gen_data:cuda()\n",
    "    end\n",
    "    print(gen_data:size())\n",
    "    local indices =  torch.range(1, data.test:size(1)):long():split(opt.batch_size)\n",
    "    indices[#indices] = nil\n",
    "    local N = #indices * opt.batch_size\n",
    "\n",
    "    local tic = torch.tic()\n",
    "    for t,v in ipairs(indices) do\n",
    "        xlua.progress(t, #indices)\n",
    "        local inputs = data.test:index(1,v)\n",
    "        --model:zeroGradParameters()\n",
    "        protos.model:evaluate()\n",
    "        local reconstruction, reconstruction_var, mean, log_var\n",
    "        if opt.continuous then\n",
    "            reconstruction, reconstruction_var, mean, log_var = unpack(protos.model:forward(inputs))\n",
    "            gen_data:indexCopy(1,v,reconstruction)\n",
    "            reconstruction = {reconstruction, reconstruction_var}\n",
    "        else\n",
    "            reconstruction, mean, log_var = unpack(protos.model:forward(inputs))\n",
    "            gen_data:indexCopy(1,v,reconstruction)\n",
    "        end\n",
    "        \n",
    "        \n",
    "\n",
    "        local batch_err = protos.criterion:forward(reconstruction, inputs)\n",
    "\n",
    "        local batch_KLDerr = protos.KLD:forward(mean, log_var)\n",
    "\n",
    "        local batchlowerbound = batch_err + batch_KLDerr\n",
    "\n",
    "        lowerbound = lowerbound + batchlowerbound\n",
    "        err = err + batch_err\n",
    "        kldiv = kldiv + batch_KLDerr\n",
    "    end\n",
    "    -- local myFile = hdf5.open(opt.gen_data, 'w')\n",
    "    -- myFile:write('gen_data', gen_data:double())\n",
    "    -- myFile:close()\n",
    "    -- myFile = hdf5.open(opt.gen_data, 'r')\n",
    "    -- local gen_data = myFile:read('gen_data')\n",
    "    -- myFile:close()\n",
    "    print(\"Test Lowerbound: \" .. lowerbound/N .. \" Error: \" .. err/N .. \" kldiv: \" .. kldiv/N .. \" time: \" .. torch.toc(tic))\n",
    "\n",
    "    print(\"print some data\")\n",
    "\n",
    "    --local shuffle = torch.randperm(gen_data:size(1))\n",
    "    local i = torch.random(1, gen_data:size(1))\n",
    "    local image = require 'image'\n",
    "    local org_image, gen_image\n",
    "    if opt.continuous then\n",
    "        org_image = image.scale(data.test[i]:double():view(28,20), 28, 20)\n",
    "        gen_image = image.scale(gen_data[i]:double():view(28,20), 28, 20)\n",
    "    else\n",
    "        org_image = image.scale(data.test[i]:double():view(28,28), 28, 20)\n",
    "        gen_image = image.scale(gen_data[i]:double():view(28,28), 28, 20)\n",
    "    end\n",
    "    --image.display(org_image)\n",
    "    --image.display(gen_image)\n",
    "    itorch.image({org_image, gen_image})\n",
    "end\n",
    "\n",
    "\n",
    "if opt.gpuid >= 0 then\n",
    "    local ok, cunn = pcall(require, 'cunn')\n",
    "    local ok2, cutorch = pcall(require, 'cutorch')\n",
    "    if not ok then print('package cunn not found!') end\n",
    "    if not ok2 then print('package cutorch not found!') end\n",
    "    if ok and ok2 then\n",
    "        print('using CUDA on GPU ' .. opt.gpuid .. '...')\n",
    "        cutorch.setDevice(opt.gpuid + 1) -- note +1 to make it 0 indexed! sigh lua\n",
    "        cutorch.manualSeed(1)\n",
    "    else\n",
    "        print('If cutorch and cunn are installed, your CUDA toolkit may be improperly configured.')\n",
    "        print('Check your CUDA toolkit installation, rebuild cutorch and cunn, and try again.')\n",
    "        print('Falling back on CPU mode')\n",
    "        opt.gpuid = -1 -- overwrite user setting\n",
    "    end\n",
    "end\n",
    "\n",
    "data = load(opt.continuous)\n",
    "opt.input_size = data.train:size(2)\n",
    "--itorch.image(data.train[1])\n",
    "--print(data.train[1]:view(28,28))\n",
    "\n",
    "\n",
    "\n",
    "torch.manualSeed(opt.seed)\n",
    "\n",
    "local protos\n",
    "if string.len(opt.init_from) > 0 then\n",
    "    print(\"Loading Warm Start...\" .. opt.init_from)\n",
    "    protos = torch.load(opt.init_from)\n",
    "else\n",
    "    protos = buildModel(opt)\n",
    "end\n",
    "\n",
    "if opt.gpuid >= 0 then\n",
    "    data.train = data.train:cuda()\n",
    "    data.test = data.test:cuda()\n",
    "    protos.criterion = protos.criterion:cuda()\n",
    "    protos.KLD = protos.KLD:cuda()\n",
    "    protos.model = protos.model:cuda()\n",
    "end\n",
    "\n",
    "if opt.skip_train == 0 then\n",
    "    print(\"Begin Training...\")\n",
    "    ftrain(protos, data, opt)\n",
    "end\n",
    "--print(\"Begin Testing...\")\n",
    "--feval(protos, data.test, opt)\n",
    "\n",
    "\n",
    "\n",
    "\n",
    "\n"
   ]
  },
  {
   "cell_type": "code",
   "execution_count": null,
   "metadata": {
    "collapsed": true
   },
   "outputs": [],
   "source": []
  }
 ],
 "metadata": {
  "kernelspec": {
   "display_name": "iTorch",
   "language": "lua",
   "name": "itorch"
  },
  "language_info": {
   "name": "lua",
   "version": "5.1"
  }
 },
 "nbformat": 4,
 "nbformat_minor": 0
}
