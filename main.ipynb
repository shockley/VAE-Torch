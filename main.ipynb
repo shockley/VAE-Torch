{
 "cells": [
  {
   "cell_type": "code",
   "execution_count": 2,
   "metadata": {
    "collapsed": false,
    "scrolled": true
   },
   "outputs": [
    {
     "data": {
      "text/plain": [
       "{\n",
       "  max_epochs : 30\n",
       "  seed : 123\n",
       "  batch_size : 100\n",
       "  gen_data : datasets/gen_data.hdf5\n",
       "  gpuid : 0\n",
       "  continuous : false\n",
       "  init_from : \n",
       "  save_to : save/protos.t7\n",
       "  hidden : 400\n",
       "  skip_train : 0\n",
       "  latent : 20\n",
       "}\n",
       "using CUDA on GPU 0...\t\n"
      ]
     },
     "execution_count": 2,
     "metadata": {},
     "output_type": "execute_result"
    },
    {
     "data": {
      "text/plain": [
       "Begin Training...\t\n"
      ]
     },
     "execution_count": 2,
     "metadata": {},
     "output_type": "execute_result"
    },
    {
     "data": {
      "text/plain": [
       "Epoch: 1 Lowerbound: 164.31305835194 time: 1.8014390468597\t\n"
      ]
     },
     "execution_count": 2,
     "metadata": {},
     "output_type": "execute_result"
    },
    {
     "data": {
      "text/plain": [
       "Epoch: 2 Lowerbound: 122.7223683353 time: 1.7741949558258\t\n"
      ]
     },
     "execution_count": 2,
     "metadata": {},
     "output_type": "execute_result"
    },
    {
     "data": {
      "text/plain": [
       " 10000\n",
       "   784\n",
       "[torch.LongStorage of size 2]\n",
       "\n"
      ]
     },
     "execution_count": 2,
     "metadata": {},
     "output_type": "execute_result"
    },
    {
     "data": {
      "text/plain": [
       "Test Lowerbound: 116.44756135574 Error: 92.610213512074 kldiv: 23.837347843671 time: 0.14548087120056\t\n",
       "print some data\t\n"
      ]
     },
     "execution_count": 2,
     "metadata": {},
     "output_type": "execute_result"
    },
    {
     "data": {
      "image/png": "[encoded data removed]",
      "text/plain": [
       "Console does not support images"
      ]
     },
     "metadata": {
      "image/png": {
       "height": 22,
       "width": 60
      }
     },
     "output_type": "display_data"
    },
    {
     "data": {
      "text/plain": [
       "Epoch: 3 Lowerbound: 115.55709174697 time: 1.7838530540466\t\n"
      ]
     },
     "execution_count": 2,
     "metadata": {},
     "output_type": "execute_result"
    },
    {
     "data": {
      "text/plain": [
       "Epoch: 4 Lowerbound: 112.60178675222 time: 1.817656993866\t\n"
      ]
     },
     "execution_count": 2,
     "metadata": {},
     "output_type": "execute_result"
    },
    {
     "data": {
      "text/plain": [
       " 10000\n",
       "   784\n",
       "[torch.LongStorage of size 2]\n",
       "\n"
      ]
     },
     "execution_count": 2,
     "metadata": {},
     "output_type": "execute_result"
    },
    {
     "data": {
      "text/plain": [
       "Test Lowerbound: 110.63065617109 Error: 86.034163016888 kldiv: 24.596493154198 time: 0.14057207107544\t\n",
       "print some data\t\n"
      ]
     },
     "execution_count": 2,
     "metadata": {},
     "output_type": "execute_result"
    },
    {
     "data": {
      "image/png": "[encoded data removed]",
      "text/plain": [
       "Console does not support images"
      ]
     },
     "metadata": {
      "image/png": {
       "height": 22,
       "width": 60
      }
     },
     "output_type": "display_data"
    },
    {
     "data": {
      "text/plain": [
       "Epoch: 5 Lowerbound: 110.89784317659 time: 1.8126449584961\t\n"
      ]
     },
     "execution_count": 2,
     "metadata": {},
     "output_type": "execute_result"
    },
    {
     "data": {
      "text/plain": [
       "Progress: 479 / 499\t\n"
      ]
     },
     "execution_count": 2,
     "metadata": {},
     "output_type": "execute_result"
    },
    {
     "data": {
      "text/plain": [
       "Epoch: 6 Lowerbound: 109.65066692956 time: 1.8063149452209\t\n"
      ]
     },
     "execution_count": 2,
     "metadata": {},
     "output_type": "execute_result"
    },
    {
     "data": {
      "text/plain": [
       " 10000\n",
       "   784\n",
       "[torch.LongStorage of size 2]\n",
       "\n"
      ]
     },
     "execution_count": 2,
     "metadata": {},
     "output_type": "execute_result"
    },
    {
     "data": {
      "text/plain": [
       "Test Lowerbound: 108.48419024227 Error: 83.89115678267 kldiv: 24.593033459596 time: 0.15888810157776\t\n",
       "print some data\t\n"
      ]
     },
     "execution_count": 2,
     "metadata": {},
     "output_type": "execute_result"
    },
    {
     "data": {
      "image/png": "[encoded data removed]",
      "text/plain": [
       "Console does not support images"
      ]
     },
     "metadata": {
      "image/png": {
       "height": 22,
       "width": 60
      }
     },
     "output_type": "display_data"
    },
    {
     "data": {
      "text/plain": [
       "Epoch: 7 Lowerbound: 108.83361645655 time: 1.8048858642578\t\n"
      ]
     },
     "execution_count": 2,
     "metadata": {},
     "output_type": "execute_result"
    },
    {
     "data": {
      "text/plain": [
       "Epoch: 8 Lowerbound: 108.15559031148 time: 1.8032441139221\t\n"
      ]
     },
     "execution_count": 2,
     "metadata": {},
     "output_type": "execute_result"
    },
    {
     "data": {
      "text/plain": [
       " 10000\n",
       "   784\n",
       "[torch.LongStorage of size 2]\n",
       "\n"
      ]
     },
     "execution_count": 2,
     "metadata": {},
     "output_type": "execute_result"
    },
    {
     "data": {
      "text/plain": [
       "Test Lowerbound: 107.26506759489 Error: 82.07187206538 kldiv: 25.193195529514 time: 0.14879488945007\t\n",
       "print some data\t\n"
      ]
     },
     "execution_count": 2,
     "metadata": {},
     "output_type": "execute_result"
    },
    {
     "data": {
      "image/png": "[encoded data removed]",
      "text/plain": [
       "Console does not support images"
      ]
     },
     "metadata": {
      "image/png": {
       "height": 22,
       "width": 60
      }
     },
     "output_type": "display_data"
    },
    {
     "data": {
      "text/plain": [
       "Epoch: 9 Lowerbound: 107.62685884464 time: 1.7880690097809\t\n"
      ]
     },
     "execution_count": 2,
     "metadata": {},
     "output_type": "execute_result"
    },
    {
     "data": {
      "text/plain": [
       "Epoch: 10 Lowerbound: 107.19223945939 time: 1.8272750377655\t\n"
      ]
     },
     "execution_count": 2,
     "metadata": {},
     "output_type": "execute_result"
    },
    {
     "data": {
      "text/plain": [
       " 10000\n",
       "   784\n",
       "[torch.LongStorage of size 2]\n",
       "\n"
      ]
     },
     "execution_count": 2,
     "metadata": {},
     "output_type": "execute_result"
    },
    {
     "data": {
      "text/plain": [
       "Test Lowerbound: 106.71815617109 Error: 80.932431665286 kldiv: 25.7857245058 time: 0.15839505195618\t\n",
       "print some data\t\n"
      ]
     },
     "execution_count": 2,
     "metadata": {},
     "output_type": "execute_result"
    },
    {
     "data": {
      "image/png": "[encoded data removed]",
      "text/plain": [
       "Console does not support images"
      ]
     },
     "metadata": {
      "image/png": {
       "height": 22,
       "width": 60
      }
     },
     "output_type": "display_data"
    },
    {
     "data": {
      "text/plain": [
       "Epoch: 11 Lowerbound: 106.83691725247 time: 1.8017580509186\t\n"
      ]
     },
     "execution_count": 2,
     "metadata": {},
     "output_type": "execute_result"
    },
    {
     "data": {
      "text/plain": [
       "Epoch: 12 Lowerbound: 106.52147855281 time: 1.8184769153595\t\n"
      ]
     },
     "execution_count": 2,
     "metadata": {},
     "output_type": "execute_result"
    },
    {
     "data": {
      "text/plain": [
       " 10000\n",
       "   784\n",
       "[torch.LongStorage of size 2]\n",
       "\n"
      ]
     },
     "execution_count": 2,
     "metadata": {},
     "output_type": "execute_result"
    },
    {
     "data": {
      "text/plain": [
       "Test Lowerbound: 106.19019533716 Error: 80.874632556029 kldiv: 25.315562781132 time: 0.15069699287415\t\n",
       "print some data\t\n"
      ]
     },
     "execution_count": 2,
     "metadata": {},
     "output_type": "execute_result"
    },
    {
     "data": {
      "image/png": "[encoded data removed]",
      "text/plain": [
       "Console does not support images"
      ]
     },
     "metadata": {
      "image/png": {
       "height": 22,
       "width": 60
      }
     },
     "output_type": "display_data"
    },
    {
     "data": {
      "text/plain": [
       "Epoch: 13 Lowerbound: 106.22126933065 time: 1.8404760360718\t\n"
      ]
     },
     "execution_count": 2,
     "metadata": {},
     "output_type": "execute_result"
    },
    {
     "data": {
      "text/plain": [
       "Progress: 355 / 499\t\n"
      ]
     },
     "execution_count": 2,
     "metadata": {},
     "output_type": "execute_result"
    },
    {
     "data": {
      "text/plain": [
       "Epoch: 14 Lowerbound: 106.0290416135 time: 1.9244291782379\t\n"
      ]
     },
     "execution_count": 2,
     "metadata": {},
     "output_type": "execute_result"
    },
    {
     "data": {
      "text/plain": [
       " 10000\n",
       "   784\n",
       "[torch.LongStorage of size 2]\n",
       "\n"
      ]
     },
     "execution_count": 2,
     "metadata": {},
     "output_type": "execute_result"
    },
    {
     "data": {
      "text/plain": [
       "Test Lowerbound: 105.64139808732 Error: 80.300000073982 kldiv: 25.341398013336 time: 0.19495606422424\t\n",
       "print some data\t\n"
      ]
     },
     "execution_count": 2,
     "metadata": {},
     "output_type": "execute_result"
    },
    {
     "data": {
      "image/png": "[encoded data removed]",
      "text/plain": [
       "Console does not support images"
      ]
     },
     "metadata": {
      "image/png": {
       "height": 22,
       "width": 60
      }
     },
     "output_type": "display_data"
    },
    {
     "data": {
      "text/plain": [
       "Epoch: 15 Lowerbound: 105.77191264365 time: 1.9679360389709\t\n"
      ]
     },
     "execution_count": 2,
     "metadata": {},
     "output_type": "execute_result"
    },
    {
     "data": {
      "text/plain": [
       "Epoch: 16 Lowerbound: 105.58819488097 time: 1.7885599136353\t\n"
      ]
     },
     "execution_count": 2,
     "metadata": {},
     "output_type": "execute_result"
    },
    {
     "data": {
      "text/plain": [
       " 10000\n",
       "   784\n",
       "[torch.LongStorage of size 2]\n",
       "\n"
      ]
     },
     "execution_count": 2,
     "metadata": {},
     "output_type": "execute_result"
    },
    {
     "data": {
      "text/plain": [
       "Test Lowerbound: 105.32149988656 Error: 80.24777417732 kldiv: 25.073725709241 time: 0.14584493637085\t\n",
       "print some data\t\n"
      ]
     },
     "execution_count": 2,
     "metadata": {},
     "output_type": "execute_result"
    },
    {
     "data": {
      "image/png": "[encoded data removed]",
      "text/plain": [
       "Console does not support images"
      ]
     },
     "metadata": {
      "image/png": {
       "height": 22,
       "width": 60
      }
     },
     "output_type": "display_data"
    },
    {
     "data": {
      "text/plain": [
       "Epoch: 17 Lowerbound: 105.41653978367 time: 1.8285119533539\t\n"
      ]
     },
     "execution_count": 2,
     "metadata": {},
     "output_type": "execute_result"
    },
    {
     "data": {
      "text/plain": [
       "Epoch: 18 Lowerbound: 105.17072320911 time: 1.8413691520691\t\n"
      ]
     },
     "execution_count": 2,
     "metadata": {},
     "output_type": "execute_result"
    },
    {
     "data": {
      "text/plain": [
       " 10000\n",
       "   784\n",
       "[torch.LongStorage of size 2]\n",
       "\n"
      ]
     },
     "execution_count": 2,
     "metadata": {},
     "output_type": "execute_result"
    },
    {
     "data": {
      "text/plain": [
       "Test Lowerbound: 104.99268897471 Error: 79.792567027699 kldiv: 25.200121947009 time: 0.15173602104187\t\n",
       "print some data\t\n"
      ]
     },
     "execution_count": 2,
     "metadata": {},
     "output_type": "execute_result"
    },
    {
     "data": {
      "image/png": "[encoded data removed]",
      "text/plain": [
       "Console does not support images"
      ]
     },
     "metadata": {
      "image/png": {
       "height": 22,
       "width": 60
      }
     },
     "output_type": "display_data"
    },
    {
     "data": {
      "text/plain": [
       "Epoch: 19 Lowerbound: 105.12805871509 time: 1.8294949531555\t\n"
      ]
     },
     "execution_count": 2,
     "metadata": {},
     "output_type": "execute_result"
    },
    {
     "data": {
      "text/plain": [
       "Epoch: 20 Lowerbound: 104.93996691136 time: 1.798553943634\t\n"
      ]
     },
     "execution_count": 2,
     "metadata": {},
     "output_type": "execute_result"
    },
    {
     "data": {
      "text/plain": [
       " 10000\n",
       "   784\n",
       "[torch.LongStorage of size 2]\n",
       "\n"
      ]
     },
     "execution_count": 2,
     "metadata": {},
     "output_type": "execute_result"
    },
    {
     "data": {
      "text/plain": [
       "Test Lowerbound: 104.8575964972 Error: 80.035108679569 kldiv: 24.822487817629 time: 0.16462898254395\t\n",
       "print some data\t\n"
      ]
     },
     "execution_count": 2,
     "metadata": {},
     "output_type": "execute_result"
    },
    {
     "data": {
      "image/png": "[encoded data removed]",
      "text/plain": [
       "Console does not support images"
      ]
     },
     "metadata": {
      "image/png": {
       "height": 22,
       "width": 60
      }
     },
     "output_type": "display_data"
    },
    {
     "data": {
      "text/plain": [
       "Epoch: 21 Lowerbound: 104.81247248403 time: 1.8043010234833\t\n"
      ]
     },
     "execution_count": 2,
     "metadata": {},
     "output_type": "execute_result"
    },
    {
     "data": {
      "text/plain": [
       "Progress: 155 / 499\t\n"
      ]
     },
     "execution_count": 2,
     "metadata": {},
     "output_type": "execute_result"
    },
    {
     "data": {
      "text/plain": [
       "Epoch: 22 Lowerbound: 104.69001884139 time: 1.8261439800262\t\n"
      ]
     },
     "execution_count": 2,
     "metadata": {},
     "output_type": "execute_result"
    },
    {
     "data": {
      "text/plain": [
       " 10000\n",
       "   784\n",
       "[torch.LongStorage of size 2]\n",
       "\n"
      ]
     },
     "execution_count": 2,
     "metadata": {},
     "output_type": "execute_result"
    },
    {
     "data": {
      "text/plain": [
       "Test Lowerbound: 104.56739144373 Error: 79.775286630958 kldiv: 24.792104812776 time: 0.14665699005127\t\n",
       "print some data\t\n"
      ]
     },
     "execution_count": 2,
     "metadata": {},
     "output_type": "execute_result"
    },
    {
     "data": {
      "image/png": "[encoded data removed]",
      "text/plain": [
       "Console does not support images"
      ]
     },
     "metadata": {
      "image/png": {
       "height": 22,
       "width": 60
      }
     },
     "output_type": "display_data"
    },
    {
     "data": {
      "text/plain": [
       "Epoch: 23 Lowerbound: 104.58455880022 time: 1.8227779865265\t\n"
      ]
     },
     "execution_count": 2,
     "metadata": {},
     "output_type": "execute_result"
    },
    {
     "data": {
      "text/plain": [
       "Epoch: 24 Lowerbound: 104.42186055705 time: 1.8657760620117\t\n"
      ]
     },
     "execution_count": 2,
     "metadata": {},
     "output_type": "execute_result"
    },
    {
     "data": {
      "text/plain": [
       " 10000\n",
       "   784\n",
       "[torch.LongStorage of size 2]\n",
       "\n"
      ]
     },
     "execution_count": 2,
     "metadata": {},
     "output_type": "execute_result"
    },
    {
     "data": {
      "text/plain": [
       "Test Lowerbound: 104.29856886738 Error: 79.074894181069 kldiv: 25.223674686316 time: 0.1670069694519\t\n",
       "print some data\t\n"
      ]
     },
     "execution_count": 2,
     "metadata": {},
     "output_type": "execute_result"
    },
    {
     "data": {
      "image/png": "[encoded data removed]",
      "text/plain": [
       "Console does not support images"
      ]
     },
     "metadata": {
      "image/png": {
       "height": 22,
       "width": 60
      }
     },
     "output_type": "display_data"
    },
    {
     "data": {
      "text/plain": [
       "Epoch: 25 Lowerbound: 104.37075356768 time: 1.8275990486145\t\n"
      ]
     },
     "execution_count": 2,
     "metadata": {},
     "output_type": "execute_result"
    },
    {
     "data": {
      "text/plain": [
       "Epoch: 26 Lowerbound: 104.25629559901 time: 1.8582820892334\t\n"
      ]
     },
     "execution_count": 2,
     "metadata": {},
     "output_type": "execute_result"
    },
    {
     "data": {
      "text/plain": [
       " 10000\n",
       "   784\n",
       "[torch.LongStorage of size 2]\n",
       "\n"
      ]
     },
     "execution_count": 2,
     "metadata": {},
     "output_type": "execute_result"
    },
    {
     "data": {
      "text/plain": [
       "Test Lowerbound: 104.34930883542 Error: 78.605043328796 kldiv: 25.744265506629 time: 0.15342783927917\t\n",
       "print some data\t\n"
      ]
     },
     "execution_count": 2,
     "metadata": {},
     "output_type": "execute_result"
    },
    {
     "data": {
      "image/png": "[encoded data removed]",
      "text/plain": [
       "Console does not support images"
      ]
     },
     "metadata": {
      "image/png": {
       "height": 22,
       "width": 60
      }
     },
     "output_type": "display_data"
    },
    {
     "data": {
      "text/plain": [
       "Epoch: 27 Lowerbound: 104.1710278516 time: 1.830235004425\t\n"
      ]
     },
     "execution_count": 2,
     "metadata": {},
     "output_type": "execute_result"
    },
    {
     "data": {
      "text/plain": [
       "Epoch: 28 Lowerbound: 104.04378717396 time: 1.8347849845886\t\n"
      ]
     },
     "execution_count": 2,
     "metadata": {},
     "output_type": "execute_result"
    },
    {
     "data": {
      "text/plain": [
       " 10000\n",
       "   784\n",
       "[torch.LongStorage of size 2]\n",
       "\n"
      ]
     },
     "execution_count": 2,
     "metadata": {},
     "output_type": "execute_result"
    },
    {
     "data": {
      "text/plain": [
       "Test Lowerbound: 104.15946173157 Error: 78.685598859691 kldiv: 25.473862871883 time: 0.16037797927856\t\n",
       "print some data\t\n"
      ]
     },
     "execution_count": 2,
     "metadata": {},
     "output_type": "execute_result"
    },
    {
     "data": {
      "image/png": "[encoded data removed]",
      "text/plain": [
       "Console does not support images"
      ]
     },
     "metadata": {
      "image/png": {
       "height": 22,
       "width": 60
      }
     },
     "output_type": "display_data"
    },
    {
     "data": {
      "text/plain": [
       "Progress: 463 / 499\t\n"
      ]
     },
     "execution_count": 2,
     "metadata": {},
     "output_type": "execute_result"
    },
    {
     "data": {
      "text/plain": [
       "Epoch: 29 Lowerbound: 103.94349888253 time: 1.8954441547394\t\n"
      ]
     },
     "execution_count": 2,
     "metadata": {},
     "output_type": "execute_result"
    },
    {
     "data": {
      "text/plain": [
       "Epoch: 30 Lowerbound: 103.92849344685 time: 1.8160009384155\t\n"
      ]
     },
     "execution_count": 2,
     "metadata": {},
     "output_type": "execute_result"
    },
    {
     "data": {
      "text/plain": [
       " 10000\n",
       "   784\n",
       "[torch.LongStorage of size 2]\n",
       "\n"
      ]
     },
     "execution_count": 2,
     "metadata": {},
     "output_type": "execute_result"
    },
    {
     "data": {
      "text/plain": [
       "Test Lowerbound: 103.95397448607 Error: 78.986183835425 kldiv: 24.967790650647 time: 0.14876914024353\t\n",
       "print some data\t\n"
      ]
     },
     "execution_count": 2,
     "metadata": {},
     "output_type": "execute_result"
    },
    {
     "data": {
      "image/png": "[encoded data removed]",
      "text/plain": [
       "Console does not support images"
      ]
     },
     "metadata": {
      "image/png": {
       "height": 22,
       "width": 60
      }
     },
     "output_type": "display_data"
    }
   ],
   "source": [
    "-- Joost van Amersfoort - <joost@joo.st>\n",
    "require 'torch'\n",
    "require 'nn'\n",
    "require 'nngraph'\n",
    "require 'optim'\n",
    "\n",
    "\n",
    "nngraph.setDebug(false)\n",
    "\n",
    "local VAE = require 'VAE'\n",
    "require 'KLDCriterion'\n",
    "require 'GaussianCriterion'\n",
    "require 'Sampler'\n",
    "\n",
    "--For loading data files\n",
    "require 'load'\n",
    "\n",
    "cmd = torch.CmdLine()\n",
    "cmd:text()\n",
    "cmd:text('Train a Variational Autoencoder')\n",
    "cmd:text()\n",
    "cmd:text('Options')\n",
    "-- data\n",
    "cmd:option('-gpuid',0,'which gpu to use. -1 = use CPU')\n",
    "cmd:option('-continuous',0,'continuous or binary data')\n",
    "cmd:option('-max_epochs',30,'number of full passes through the training data')\n",
    "cmd:option('-seed',123,'torch manual random number generator seed')\n",
    "cmd:option('-hidden',400,'hidden_layer_size')\n",
    "cmd:option('-latent',20,'latent_variable_size')\n",
    "cmd:option('-batch_size',100,'batch_size')\n",
    "cmd:option('-save_to','save/protos.t7','save the model to')\n",
    "cmd:option('-init_from','','initialize network parameters from checkpoint at this path')\n",
    "cmd:option('-skip_train',0,'skip training')\n",
    "cmd:option('-gen_data','datasets/gen_data.hdf5','reconstructed data')\n",
    "cmd:text()\n",
    "\n",
    "local arg = ''\n",
    "opt = cmd:parse(arg)\n",
    "\n",
    "if opt.continuous == 1 then\n",
    "    opt.continuous = true\n",
    "else\n",
    "    opt.continuous = false\n",
    "end\n",
    "print(opt)\n",
    "\n",
    "\n",
    "function buildModel(opt)\n",
    "    protos = {}\n",
    "    local encoder = VAE.get_encoder(opt.input_size, opt.hidden, opt.latent)\n",
    "    local decoder = VAE.get_decoder(opt.input_size, opt.hidden, opt.latent, opt.continuous)\n",
    "    local input = nn.Identity()()\n",
    "    local mean, log_var = encoder(input):split(2)\n",
    "    local z = nn.Sampler()({mean, log_var})\n",
    "    local reconstruction, reconstruction_var, model\n",
    "    if opt.continuous then\n",
    "        reconstruction, reconstruction_var = decoder(z):split(2)\n",
    "        model = nn.gModule({input},{reconstruction, reconstruction_var, mean, log_var})\n",
    "        criterion = nn.GaussianCriterion()\n",
    "    else\n",
    "        reconstruction = decoder(z)\n",
    "        model = nn.gModule({input},{reconstruction, mean, log_var})\n",
    "        criterion = nn.BCECriterion()\n",
    "        criterion.sizeAverage = false\n",
    "    end\n",
    "    protos.model = model\n",
    "    protos.criterion = criterion\n",
    "    protos.KLD = nn.KLDCriterion()\n",
    "    return protos\n",
    "end\n",
    "\n",
    "function computationGraph(model, data)\n",
    "    --Some code to draw computational graph\n",
    "    -- dummy_x = torch.rand(10)\n",
    "    local rg = torch.Tensor({1}):long()\n",
    "    local dummy_x = data.train:index(1,rg)\n",
    "    model:forward(dummy_x)\n",
    "    --Uncomment to get structure of the Variational Autoencoder\n",
    "    graph.dot(model.fg, 'Variational Autoencoder', 'VA')\n",
    "end\n",
    "\n",
    "function ftrain(protos, data, opt)\n",
    "    local parameters, gradients = protos.model:getParameters()\n",
    "    local config = {\n",
    "        learningRate = 0.001\n",
    "    }\n",
    "\n",
    "    local state = {}\n",
    "\n",
    "    epoch = 0\n",
    "    -- while true do\n",
    "\n",
    "    while epoch < opt.max_epochs do\n",
    "        epoch = epoch + 1\n",
    "        local lowerbound = 0\n",
    "        local tic = torch.tic()\n",
    "\n",
    "        --local shuffle = torch.randperm(data:size(1))\n",
    "\n",
    "        -- This batch creation is inspired by szagoruyko CIFAR example.\n",
    "        local indices = torch.randperm(data.train:size(1)):long():split(opt.batch_size)\n",
    "        indices[#indices] = nil\n",
    "        local N = #indices * opt.batch_size\n",
    "\n",
    "        local tic = torch.tic()\n",
    "        for t,v in ipairs(indices) do\n",
    "            xlua.progress(t, #indices)\n",
    "\n",
    "            local inputs = data.train:index(1,v)\n",
    "            --inputs = inputs:cuda()\n",
    "            --print(inputs)\n",
    "            local opfunc = function(x)\n",
    "                if x ~= parameters then\n",
    "                    parameters:copy(x)\n",
    "                end\n",
    "\n",
    "                protos.model:zeroGradParameters()\n",
    "                local reconstruction, reconstruction_var, mean, log_var\n",
    "                if opt.continuous then\n",
    "                    reconstruction, reconstruction_var, mean, log_var = unpack(protos.model:forward(inputs))\n",
    "                    reconstruction = {reconstruction, reconstruction_var}\n",
    "                else\n",
    "                    reconstruction, mean, log_var = unpack(protos.model:forward(inputs))\n",
    "                end\n",
    "\n",
    "                local err = protos.criterion:forward(reconstruction, inputs)\n",
    "                local df_dw = protos.criterion:backward(reconstruction, inputs)\n",
    "\n",
    "                local KLDerr = protos.KLD:forward(mean, log_var)\n",
    "                local dKLD_dmu, dKLD_dlog_var = unpack(protos.KLD:backward(mean, log_var))\n",
    "\n",
    "                if opt.continuous then\n",
    "                    error_grads = {df_dw[1], df_dw[2], dKLD_dmu, dKLD_dlog_var}\n",
    "                else\n",
    "                    error_grads = {df_dw, dKLD_dmu, dKLD_dlog_var}\n",
    "                end\n",
    "\n",
    "                protos.model:backward(inputs, error_grads)\n",
    "\n",
    "                local batchlowerbound = err + KLDerr\n",
    "\n",
    "                return batchlowerbound, gradients\n",
    "            end\n",
    "\n",
    "            x, batchlowerbound = optim.adam(opfunc, parameters, config, state)\n",
    "\n",
    "            lowerbound = lowerbound + batchlowerbound[1]\n",
    "        end\n",
    "\n",
    "        print(\"Epoch: \" .. epoch .. \" Lowerbound: \" .. lowerbound/N .. \" time: \" .. torch.toc(tic)) \n",
    "\n",
    "        if lowerboundlist then\n",
    "            lowerboundlist = torch.cat(lowerboundlist,torch.Tensor(1,1):fill(lowerbound/N),1)\n",
    "        else\n",
    "            lowerboundlist = torch.Tensor(1,1):fill(lowerbound/N)\n",
    "        end\n",
    "\n",
    "        if epoch % 2 == 0 then\n",
    "            --torch.save('save/parameters.t7', parameters)\n",
    "            feval(protos, data, opt)\n",
    "            torch.save(opt.save_to, protos)\n",
    "            torch.save('save/state.t7', state)\n",
    "            torch.save('save/lowerbound.t7', torch.Tensor(lowerboundlist))\n",
    "        end\n",
    "    end\n",
    "end\n",
    "\n",
    "function feval(protos, data, opt)\n",
    "    -- print on the test dataset\n",
    "    local lowerbound = 0\n",
    "    local err = 0\n",
    "    local kldiv = 0\n",
    "    local gen_data = torch.zeros(data.test:size()):double()\n",
    "    if opt.gpuid >=0 then\n",
    "        gen_data = gen_data:cuda()\n",
    "    end\n",
    "    print(gen_data:size())\n",
    "    local indices =  torch.range(1, data.test:size(1)):long():split(opt.batch_size)\n",
    "    indices[#indices] = nil\n",
    "    local N = #indices * opt.batch_size\n",
    "\n",
    "    local tic = torch.tic()\n",
    "    for t,v in ipairs(indices) do\n",
    "        xlua.progress(t, #indices)\n",
    "        local inputs = data.test:index(1,v)\n",
    "        --model:zeroGradParameters()\n",
    "        protos.model:evaluate()\n",
    "        local reconstruction, reconstruction_var, mean, log_var\n",
    "        if opt.continuous then\n",
    "            reconstruction, reconstruction_var, mean, log_var = unpack(protos.model:forward(inputs))\n",
    "            gen_data:indexCopy(1,v,reconstruction)\n",
    "            reconstruction = {reconstruction, reconstruction_var}\n",
    "        else\n",
    "            reconstruction, mean, log_var = unpack(protos.model:forward(inputs))\n",
    "            gen_data:indexCopy(1,v,reconstruction)\n",
    "        end\n",
    "        \n",
    "        \n",
    "\n",
    "        local batch_err = protos.criterion:forward(reconstruction, inputs)\n",
    "\n",
    "        local batch_KLDerr = protos.KLD:forward(mean, log_var)\n",
    "\n",
    "        local batchlowerbound = batch_err + batch_KLDerr\n",
    "\n",
    "        lowerbound = lowerbound + batchlowerbound\n",
    "        err = err + batch_err\n",
    "        kldiv = kldiv + batch_KLDerr\n",
    "    end\n",
    "    -- local myFile = hdf5.open(opt.gen_data, 'w')\n",
    "    -- myFile:write('gen_data', gen_data:double())\n",
    "    -- myFile:close()\n",
    "    -- myFile = hdf5.open(opt.gen_data, 'r')\n",
    "    -- local gen_data = myFile:read('gen_data')\n",
    "    -- myFile:close()\n",
    "    print(\"Test Lowerbound: \" .. lowerbound/N .. \" Error: \" .. err/N .. \" kldiv: \" .. kldiv/N .. \" time: \" .. torch.toc(tic))\n",
    "\n",
    "    print(\"print some data\")\n",
    "\n",
    "    --local shuffle = torch.randperm(gen_data:size(1))\n",
    "    local i = torch.random(1, gen_data:size(1))\n",
    "    local image = require 'image'\n",
    "    local org_image, gen_image\n",
    "    if opt.continuous then\n",
    "        org_image = image.scale(data.test[i]:double():view(28,20), 28, 20)\n",
    "        gen_image = image.scale(gen_data[i]:double():view(28,20), 28, 20)\n",
    "    else\n",
    "        org_image = image.scale(data.test[i]:double():view(28,28), 28, 20)\n",
    "        gen_image = image.scale(gen_data[i]:double():view(28,28), 28, 20)\n",
    "    end\n",
    "    --image.display(org_image)\n",
    "    --image.display(gen_image)\n",
    "    itorch.image({org_image, gen_image})\n",
    "end\n",
    "\n",
    "\n",
    "if opt.gpuid >= 0 then\n",
    "    local ok, cunn = pcall(require, 'cunn')\n",
    "    local ok2, cutorch = pcall(require, 'cutorch')\n",
    "    if not ok then print('package cunn not found!') end\n",
    "    if not ok2 then print('package cutorch not found!') end\n",
    "    if ok and ok2 then\n",
    "        print('using CUDA on GPU ' .. opt.gpuid .. '...')\n",
    "        cutorch.setDevice(opt.gpuid + 1) -- note +1 to make it 0 indexed! sigh lua\n",
    "        cutorch.manualSeed(1)\n",
    "    else\n",
    "        print('If cutorch and cunn are installed, your CUDA toolkit may be improperly configured.')\n",
    "        print('Check your CUDA toolkit installation, rebuild cutorch and cunn, and try again.')\n",
    "        print('Falling back on CPU mode')\n",
    "        opt.gpuid = -1 -- overwrite user setting\n",
    "    end\n",
    "end\n",
    "\n",
    "data = load(opt.continuous)\n",
    "opt.input_size = data.train:size(2)\n",
    "--itorch.image(data.train[1])\n",
    "--print(data.train[1]:view(28,28))\n",
    "\n",
    "\n",
    "\n",
    "torch.manualSeed(opt.seed)\n",
    "\n",
    "local protos\n",
    "if string.len(opt.init_from) > 0 then\n",
    "    print(\"Loading Warm Start...\" .. opt.init_from)\n",
    "    protos = torch.load(opt.init_from)\n",
    "else\n",
    "    protos = buildModel(opt)\n",
    "end\n",
    "\n",
    "if opt.gpuid >= 0 then\n",
    "    data.train = data.train:cuda()\n",
    "    data.test = data.test:cuda()\n",
    "    protos.criterion = protos.criterion:cuda()\n",
    "    protos.KLD = protos.KLD:cuda()\n",
    "    protos.model = protos.model:cuda()\n",
    "end\n",
    "\n",
    "if opt.skip_train == 0 then\n",
    "    print(\"Begin Training...\")\n",
    "    ftrain(protos, data, opt)\n",
    "end\n",
    "--print(\"Begin Testing...\")\n",
    "--feval(protos, data.test, opt)\n",
    "\n",
    "\n",
    "\n",
    "\n",
    "\n"
   ]
  },
  {
   "cell_type": "code",
   "execution_count": null,
   "metadata": {
    "collapsed": true
   },
   "outputs": [],
   "source": []
  }
 ],
 "metadata": {
  "kernelspec": {
   "display_name": "iTorch",
   "language": "lua",
   "name": "itorch"
  },
  "language_info": {
   "name": "lua",
   "version": "5.1"
  }
 },
 "nbformat": 4,
 "nbformat_minor": 0
}
